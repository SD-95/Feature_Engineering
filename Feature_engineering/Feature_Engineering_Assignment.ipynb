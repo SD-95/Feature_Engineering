{
 "cells": [
  {
   "cell_type": "markdown",
   "metadata": {},
   "source": [
    "## 1. What is a parameter?"
   ]
  },
  {
   "cell_type": "code",
   "execution_count": null,
   "metadata": {},
   "outputs": [],
   "source": [
    "'''\n",
    "In Feature engineering a parameter is setting that controls how you transform or select your data feature.\n",
    "\n",
    "Example: \n",
    "Let's say we have a feature \"Age\" with values ranging from 18 to 65.\n",
    "\n",
    "1st we do:  Calculate Mean                 >> Calculate the average age of all individuals in the dataset.\n",
    "2nd we do:  Calculate Standard Deviation   >> Calculate the standard deviation of the \"Age\" feature.\n",
    "3rd we do:  Standardize                    >> For each individual's age, subtract the mean age and then divide by the standard deviation.\n",
    "\n",
    "purpose       : Scaling >> Standardization ensures that all features are on the same scale, \n",
    "                          preventing features with larger values from dominating the learning process.\n",
    "Summerisation : the mean and standard deviation are the parameters that define how the \"Age\" feature is transformed during standardization.\n",
    "'''"
   ]
  },
  {
   "cell_type": "markdown",
   "metadata": {},
   "source": [
    "## 2. What is correlation? What does negative correlation mean?"
   ]
  },
  {
   "cell_type": "code",
   "execution_count": null,
   "metadata": {},
   "outputs": [],
   "source": [
    "'''\n",
    "Correlation means, a statistical measure that shows the relationship between two variables.\n",
    "Negative Correlation: Means that as one variable increases, the other variable decreases.\n",
    "'''"
   ]
  },
  {
   "cell_type": "markdown",
   "metadata": {},
   "source": [
    "## 3. Define Machine Learning. What are the main components in Machine Learning?"
   ]
  },
  {
   "cell_type": "code",
   "execution_count": null,
   "metadata": {},
   "outputs": [],
   "source": [
    "'''\n",
    "Machine Learning: \n",
    "ML focus on creating algorithims and a statistical models to let computers learned and make predictions without explicitly programmed.\n",
    "The main components in machine learning are;\n",
    "\n",
    " Data             => According to the business strategy we need to understand it first.\n",
    " Data understand  => According to business strategy we need to understand the data.\n",
    " Data preparation => Then we do the data preparation.\n",
    " Data modelling   => Then we do create a model , data modelling and train the data.\n",
    " Evaluation       => then we do evaluation in various term for train and test the data.\n",
    " deployment       => then we do deployment\n",
    "'''"
   ]
  },
  {
   "cell_type": "markdown",
   "metadata": {},
   "source": [
    "## 4. How does loss value help in determining whether the model is good or not?"
   ]
  },
  {
   "cell_type": "code",
   "execution_count": null,
   "metadata": {},
   "outputs": [],
   "source": [
    "'''\n",
    "Actually, the loss value is a measurement of how well or poorly the model is performing. \n",
    "It calculates the difference / error between the y_actual and the y_predicted value.\n",
    "\n",
    "    * if the error is less it indicates that the y_predicted is close to the y_actual value, which means the model is performing well.\n",
    "    * if the error is high it says that the model y_predicted is far from the y_actual value, which indicates poor performance.\n",
    "'''"
   ]
  },
  {
   "cell_type": "markdown",
   "metadata": {},
   "source": [
    "## 5. What are continuous and categorical variables?"
   ]
  },
  {
   "cell_type": "code",
   "execution_count": null,
   "metadata": {},
   "outputs": [],
   "source": [
    "'''\n",
    "Contineous variable: can take on any value with in a given range\n",
    "Example: Height, weight, Tempreture\n",
    "\n",
    "Categorical Variable: represent distinct groups or categories.\n",
    "Example: Color, Gender, Marital_Status\n",
    "'''"
   ]
  },
  {
   "cell_type": "markdown",
   "metadata": {},
   "source": [
    "## 6. How do we handle categorical variables in Machine Learning? What are the common techniques?"
   ]
  },
  {
   "cell_type": "code",
   "execution_count": null,
   "metadata": {},
   "outputs": [],
   "source": [
    "'''\n",
    "Mostly the Categorical variables are in string type, we do convert it into numerical variable using Nominal one hot encoding.\n",
    "so in machine_learning it is pretty much easy to create a model in Categorical variable.\n",
    "\n",
    "The Technique of converting the String data in to numerical data is known as Data encoding.\n",
    "There are different type of techniques. \n",
    "\n",
    "1. Nominal one hot encoding.\n",
    "-> This will convert catagorical data in to numerical data.\n",
    "-> Nominal means no-order in data. when there is no natural order in the data, then we use the technique to encode in to numerical type.\n",
    "\n",
    "        uses:\n",
    "        import sklearn.preprocessing import oneHotEncoding\n",
    "\n",
    "        encoder = oneHotEncoding()\n",
    "\n",
    "2. Label encoding.\n",
    "-> Label Encoding is a technique used to convert categorical data into numerical values by assigning each unique category an integer.\n",
    "-> there are no curse of dimensionality.\n",
    "\n",
    "        uses:\n",
    "        from sklearn.preprocessing import LabelEncoder\n",
    "\n",
    "        encoder = LabelEncoder()\n",
    "\n",
    "3.ordinal encoding.\n",
    "-> Ordinal encoding is used to convert categorical data into numerical values while preserving the order or ranking of the categories.\n",
    "\n",
    "        uses:\n",
    "        from sklearn.preprocessing import OrdinalEncoder\n",
    "\n",
    "        encoder = OrdinalEncoder()\n",
    "\n",
    "4. Target guided ordinal encoding.\n",
    "-> it is based on their relationship with the target variable.\n",
    "-> It is very usefull when there is large number of unique catagorical data.\n",
    "        \n",
    "        uses:\n",
    "        -> We have to create different catagorical group, with corresponding to mean, median of target variable.\n",
    "'''"
   ]
  },
  {
   "cell_type": "markdown",
   "metadata": {},
   "source": [
    "## 7. What do you mean by training and testing a dataset?"
   ]
  },
  {
   "cell_type": "code",
   "execution_count": null,
   "metadata": {},
   "outputs": [],
   "source": [
    "'''\n",
    "Training data is used to train the model, helping it learn and improve its performance over the time. \n",
    "Where as the, test data is to evaluate the performance of the trained model, ensuring it meets the desired standards.\n",
    "'''"
   ]
  },
  {
   "cell_type": "markdown",
   "metadata": {},
   "source": [
    "## 8. What is sklearn.preprocessing?"
   ]
  },
  {
   "cell_type": "code",
   "execution_count": null,
   "metadata": {},
   "outputs": [],
   "source": [
    "'''\n",
    "sklearn.preprocessing is a module in the scikit-learn library that provides tools for transforming raw data into a suitable format for machine learning algorithms.\n",
    "'''"
   ]
  },
  {
   "cell_type": "markdown",
   "metadata": {},
   "source": [
    "## 9. What is a Test set?"
   ]
  },
  {
   "cell_type": "code",
   "execution_count": null,
   "metadata": {},
   "outputs": [],
   "source": [
    "'''\n",
    "Test set: Data used to evaluate how well a trained model performs on unseen data.\n",
    "'''"
   ]
  },
  {
   "cell_type": "markdown",
   "metadata": {},
   "source": [
    "## 10. How do we split data for model fitting (training and testing) in Python? How do you approach a Machine Learning problem?"
   ]
  },
  {
   "cell_type": "code",
   "execution_count": null,
   "metadata": {},
   "outputs": [],
   "source": [
    "'''\n",
    "This is how we do split data for model fitting (training and testing) in Python.\n",
    "\n",
    "from sklearn.model_selection import train_test_split\n",
    "\n",
    "X_train, X_test, y_train, y_test = train_test_split(X, y, test_size=0.2, random_state=1)      # Assuming the data is in X (independent_features) and y (dependent_feature / target_variable)\n",
    "\n",
    "The general Approach to a Machine Learning Problem as follows:\n",
    "\n",
    "    Data Collection & Preparation:\n",
    "----------------------------------\n",
    "        Gather relevant data.\n",
    "        Clean the data (handle missing values, outliers, etc.).\n",
    "        Feature engineering (create new features from existing ones).\n",
    "        Data preprocessing (scaling, encoding, etc.).\n",
    "\n",
    "    Data Splitting (train_test_split):\n",
    "--------------------------------------\n",
    "        Split data into training and testing sets as shown above.\n",
    "\n",
    "    Data Scalling(optional step):\n",
    "    -----------------------------\n",
    "        Scale the data into numerical type for ML training.\n",
    "    \n",
    "    Model Training(using linear regression algorithims):\n",
    "--------------------------------------------------------\n",
    "        Train the chosen model on the training data.\n",
    "    \n",
    "    Model Evaluation:\n",
    "---------------------\n",
    "        Evaluate the model's performance on the testing data using appropriate metrics (e.g., MSE, MAE, R-square , and Adjusted_R-square).\n",
    "\n",
    "    Deployment:\n",
    "---------------\n",
    "        Deploy the trained model for predictions on new unseen data.\n",
    "'''\n"
   ]
  },
  {
   "cell_type": "markdown",
   "metadata": {},
   "source": [
    "## 11. Why do we have to perform EDA before fitting a model to the data?"
   ]
  },
  {
   "cell_type": "code",
   "execution_count": null,
   "metadata": {},
   "outputs": [],
   "source": [
    "'''\n",
    "EDA (Exploratory Data Analysis) is crucial before fitting a model to data for several reasons:\n",
    "\n",
    "    Understanding the Data: dentifying patterns and trends.\n",
    "                            Detecting outliers \n",
    "                            Understanding the relationships between variables.\n",
    "                            missing values treatment\n",
    "\n",
    "    Data Cleaning: Duplicates features.\n",
    "                   Null values.\n",
    "                \n",
    "    Feature Engineering: EDA can guide you in creating new features from existing ones, which can significantly improve model performance.\n",
    "'''"
   ]
  },
  {
   "cell_type": "markdown",
   "metadata": {},
   "source": [
    "## 12. What is correlation?"
   ]
  },
  {
   "cell_type": "code",
   "execution_count": null,
   "metadata": {},
   "outputs": [],
   "source": [
    "'''\n",
    "Correlation means, a statistical measure that shows the relationship between two variables.\n",
    "'''"
   ]
  },
  {
   "cell_type": "markdown",
   "metadata": {},
   "source": [
    "## 13. What does negative correlation mean?"
   ]
  },
  {
   "cell_type": "code",
   "execution_count": null,
   "metadata": {},
   "outputs": [],
   "source": [
    "'''\n",
    "Negative Correlation: Means that as one variable increases, the other variable decreases.\n",
    "'''"
   ]
  },
  {
   "cell_type": "markdown",
   "metadata": {},
   "source": [
    "## 14. How can you find correlation between variables in Python?"
   ]
  },
  {
   "cell_type": "code",
   "execution_count": 3,
   "metadata": {},
   "outputs": [
    {
     "data": {
      "image/png": "[encoded data removed]",
      "text/plain": [
       "<Figure size 800x600 with 2 Axes>"
      ]
     },
     "metadata": {},
     "output_type": "display_data"
    },
    {
     "data": {
      "text/html": [
       "<div>\n",
       "<style scoped>\n",
       "    .dataframe tbody tr th:only-of-type {\n",
       "        vertical-align: middle;\n",
       "    }\n",
       "\n",
       "    .dataframe tbody tr th {\n",
       "        vertical-align: top;\n",
       "    }\n",
       "\n",
       "    .dataframe thead th {\n",
       "        text-align: right;\n",
       "    }\n",
       "</style>\n",
       "<table border=\"1\" class=\"dataframe\">\n",
       "  <thead>\n",
       "    <tr style=\"text-align: right;\">\n",
       "      <th></th>\n",
       "      <th>A</th>\n",
       "      <th>B</th>\n",
       "      <th>C</th>\n",
       "    </tr>\n",
       "  </thead>\n",
       "  <tbody>\n",
       "    <tr>\n",
       "      <th>A</th>\n",
       "      <td>1.00000</td>\n",
       "      <td>0.99485</td>\n",
       "      <td>-1.00000</td>\n",
       "    </tr>\n",
       "    <tr>\n",
       "      <th>B</th>\n",
       "      <td>0.99485</td>\n",
       "      <td>1.00000</td>\n",
       "      <td>-0.99485</td>\n",
       "    </tr>\n",
       "    <tr>\n",
       "      <th>C</th>\n",
       "      <td>-1.00000</td>\n",
       "      <td>-0.99485</td>\n",
       "      <td>1.00000</td>\n",
       "    </tr>\n",
       "  </tbody>\n",
       "</table>\n",
       "</div>"
      ],
      "text/plain": [
       "         A        B        C\n",
       "A  1.00000  0.99485 -1.00000\n",
       "B  0.99485  1.00000 -0.99485\n",
       "C -1.00000 -0.99485  1.00000"
      ]
     },
     "execution_count": 3,
     "metadata": {},
     "output_type": "execute_result"
    }
   ],
   "source": [
    "\n",
    "# imported required libraries\n",
    "\n",
    "import pandas as pd\n",
    "import seaborn as sns\n",
    "import matplotlib.pyplot as plt\n",
    "\n",
    "# Sample Data\n",
    "\n",
    "data = {'A': [1, 2, 3, 4, 5], \n",
    "        'B': [2, 4, 5, 7, 9], \n",
    "        'C': [10, 8, 6, 4, 2]}\n",
    "df = pd.DataFrame(data)\n",
    "\n",
    "# getting the Correlation Matrix\n",
    "\n",
    "correlation_matrix = df.corr()\n",
    "\n",
    "# Using Heatmap we can visualize Correlation easily.\n",
    "\n",
    "plt.figure(figsize=(8, 6))\n",
    "sns.heatmap(correlation_matrix, annot=True, cmap='coolwarm')\n",
    "plt.title('Correlation Matrix')\n",
    "plt.show()\n",
    "\n",
    "# You can then analyze the correlation matrix to identify:\n",
    "\n",
    "    # Strong correlations: High positive or negative values indicate strong relationships between variables.\n",
    "    # Weak correlations: Values close to zero, indicate weak or no relationship.\n",
    "\n",
    "correlation_matrix"
   ]
  },
  {
   "cell_type": "markdown",
   "metadata": {},
   "source": [
    "## 15. What is causation? Explain difference between correlation and causation with an example"
   ]
  },
  {
   "cell_type": "code",
   "execution_count": null,
   "metadata": {},
   "outputs": [],
   "source": [
    "'''\n",
    "Causation:\n",
    "Causation is a relationship between two events where one event (the cause) directly produces or brings about the other event (the effect).\n",
    "It implies a direct, necessary connection between the two.\n",
    "\n",
    "Example: The number of people who buy sunglasses and the number of ice cream cones sold are positively correlated.\n",
    "Summerisation: Buying sunglasses does not cause people to buy ice cream, or vice versa. \n",
    "               Instead, both are influenced by a third factor: hot weather, which increases the likelihood of both activities.\n",
    "\n",
    "Correlation:\n",
    "Correlation is a statistical relationship between two variables where they tend to change together. \n",
    "It simply means that two things are related, but it doesn't necessarily mean that one causes the other.\n",
    "\n",
    "Example: Pressing the gas pedal in a car causes the car to accelerate.\n",
    "Summerisation: There is a direct cause-and-effect relationship between pressing the gas pedal (input) and the car speeding up (output).\n",
    "'''"
   ]
  },
  {
   "cell_type": "markdown",
   "metadata": {},
   "source": [
    "## 16. What is an Optimizer? What are different types of optimizers? Explain each with an example."
   ]
  },
  {
   "cell_type": "code",
   "execution_count": null,
   "metadata": {},
   "outputs": [],
   "source": [
    "'''\n",
    "Optimizer:\n",
    "An optimizer is a key component in machine learning models that adjusts the model's parameters during training to minimize the loss function.\n",
    "The optimizer helps the model convergence to the best possible solution by finding the optimal values for these parameters.\n",
    "\n",
    "* Gradient Descent:\n",
    "    It updates the parameters by calculating the gradient of the loss function with respect to the model parameters.\n",
    "    The mathematical representation is =>      The Model_New(M_new) = M_old - ita del(cost_function) / del(M_old) .\n",
    "    where, M_old is the model parameters,\n",
    "           ita is the learning_rate\n",
    "'''"
   ]
  },
  {
   "cell_type": "markdown",
   "metadata": {},
   "source": [
    "## 17. What is sklearn.linear_model ?"
   ]
  },
  {
   "cell_type": "code",
   "execution_count": null,
   "metadata": {},
   "outputs": [],
   "source": [
    "'''\n",
    "sklearn.linear_model is a submodule in the scikit-learn library that provides implementations of various linear regression and classification algorithms.\n",
    "'''"
   ]
  },
  {
   "cell_type": "markdown",
   "metadata": {},
   "source": [
    "## 18. What does model.fit() do? What arguments must be given?"
   ]
  },
  {
   "cell_type": "code",
   "execution_count": null,
   "metadata": {},
   "outputs": [],
   "source": [
    "'''\n",
    "model.fit(X_test, y_test) Trains the model for (test_data / unseen_data) by learniSplit Data: Divide your data into two sets: training and testing.\n",
    "\n",
    "Training: Use model.fit(X_train, y_train) to train the model on the training data (X_train, y_train). \n",
    "This is where the model learns patterns and relationships.\n",
    "\n",
    "Evaluation: Use model.predict(X_test) to make predictions on the test data (X_test). \n",
    "Then, compare the predictions with the actual target values (y_test) to assess the model's performance on unseen data.\n",
    "'''"
   ]
  },
  {
   "cell_type": "markdown",
   "metadata": {},
   "source": [
    "## 19. What does model.predict() do? What arguments must be given?"
   ]
  },
  {
   "cell_type": "code",
   "execution_count": null,
   "metadata": {},
   "outputs": [],
   "source": [
    "'''\n",
    "model.predict(X_test) is typically used after the model has been trained, we predict the model for the test data (x_test) unseen data.\n",
    "'''"
   ]
  },
  {
   "cell_type": "markdown",
   "metadata": {},
   "source": [
    "## 20. What are continuous and categorical variables?"
   ]
  },
  {
   "cell_type": "code",
   "execution_count": null,
   "metadata": {},
   "outputs": [],
   "source": [
    "'''\n",
    "Contineous variable: can take on any value with in a given range\n",
    "Example: Height, weight, Tempreture\n",
    "\n",
    "Categorical Variable: represent distinct groups or categories.\n",
    "Example: Color, Gender, Marital_Status\n",
    "'''"
   ]
  },
  {
   "cell_type": "markdown",
   "metadata": {},
   "source": [
    "## 21. What is feature scaling? How does it help in Machine Learning?"
   ]
  },
  {
   "cell_type": "code",
   "execution_count": null,
   "metadata": {},
   "outputs": [],
   "source": [
    "'''\n",
    "-> Feature scaling is a technique used to normalize or standardize the range of independent variables (features) in a dataset. \n",
    "-> It ensures that all features have a comparable scale, \n",
    "   which is especially important for machine learning algorithms that are sensitive to the magnitude of feature values.\n",
    "\n",
    "1. Min-Max Scaling (Normalization)\n",
    "\n",
    "  -> Scales all features to a range, typically [0, 1].\n",
    "\n",
    "  uses: \n",
    "\n",
    "    from sklearn.preprocessing import MinMaxScaler\n",
    "\n",
    "    scaler = MinMaxScaler()\n",
    "    scaled_data = scaler.fit_transform(data)\n",
    "\n",
    "2. Standardization\n",
    "  -> Centers the feature values around 0 with a standard deviation of 1.\n",
    "\n",
    "  uses: \n",
    "  \n",
    "    from sklearn.preprocessing import StandardScaler\n",
    "\n",
    "    scaler = StandardScaler()\n",
    "    scaled_data = scaler.fit_transform(data)\n",
    "'''"
   ]
  },
  {
   "cell_type": "markdown",
   "metadata": {},
   "source": [
    "## 22. How do we perform scaling in Python?"
   ]
  },
  {
   "cell_type": "code",
   "execution_count": 4,
   "metadata": {},
   "outputs": [
    {
     "name": "stdout",
     "output_type": "stream",
     "text": [
      "Standardized Data:\n",
      " [[-1.29777137 -1.29777137 -1.29777137]\n",
      " [ 0.16222142  0.16222142  0.16222142]\n",
      " [ 1.13554995  1.13554995  1.13554995]]\n",
      "\n",
      "Min-Max Scaled Data:\n",
      " [[0.  0.  0. ]\n",
      " [0.6 0.6 0.6]\n",
      " [1.  1.  1. ]]\n"
     ]
    }
   ],
   "source": [
    "from sklearn.preprocessing import StandardScaler, MinMaxScaler\n",
    "\n",
    "# Here is the sample data\n",
    "data = [[1, 2, 3], [4, 5, 6], [6, 7, 8]]\n",
    "\n",
    "# Standardization scalling\n",
    "scaler = StandardScaler()\n",
    "standardized_data = scaler.fit_transform(data)\n",
    "print(\"Standardized Data:\\n\", standardized_data)\n",
    "\n",
    "# Min-Max Scaling\n",
    "scaler = MinMaxScaler()\n",
    "minmax_scaled_data = scaler.fit_transform(data)\n",
    "print(\"\\nMin-Max Scaled Data:\\n\", minmax_scaled_data)"
   ]
  },
  {
   "cell_type": "markdown",
   "metadata": {},
   "source": [
    "## 23. What is sklearn.preprocessing?"
   ]
  },
  {
   "cell_type": "code",
   "execution_count": null,
   "metadata": {},
   "outputs": [],
   "source": [
    "'''\n",
    "sklearn.preprocessing is a module in the scikit-learn library that provides tools for transforming raw data into a suitable format for machine learning algorithms.\n",
    "'''"
   ]
  },
  {
   "cell_type": "markdown",
   "metadata": {},
   "source": [
    "## 24. How do we split data for model fitting (training and testing) in Python?"
   ]
  },
  {
   "cell_type": "code",
   "execution_count": null,
   "metadata": {},
   "outputs": [],
   "source": [
    "'''\n",
    "This is how we do split data for model fitting (training and testing) in Python.\n",
    "\n",
    "from sklearn.model_selection import train_test_split\n",
    "\n",
    "X_train, X_test, y_train, y_test = train_test_split(X, y, test_size=0.2, random_state=1)      # Assuming the data is in X (independent_features) and y (dependent_feature / target_variable)\n",
    "'''"
   ]
  },
  {
   "cell_type": "markdown",
   "metadata": {},
   "source": [
    "## 25. Explain data encoding?"
   ]
  },
  {
   "cell_type": "code",
   "execution_count": null,
   "metadata": {},
   "outputs": [],
   "source": [
    "'''\n",
    "The Technique of converting the String data in to numerical data is known as Data encoding.\n",
    "There are different type of techniques. \n",
    "\n",
    "1. Nominal one hot encoding.\n",
    "-> This will convert catagorical data in to numerical data.\n",
    "-> Nominal means no-order in data. when there is no natural order in the data, then we use the technique to encode in to numerical type.\n",
    "\n",
    "        uses:\n",
    "        import sklearn.preprocessing import oneHotEncoding\n",
    "\n",
    "        encoder = oneHotEncoding()\n",
    "\n",
    "2. Label encoding.\n",
    "-> Label Encoding is a technique used to convert categorical data into numerical values by assigning each unique category an integer.\n",
    "-> there are no curse of dimensionality.\n",
    "\n",
    "        uses:\n",
    "        from sklearn.preprocessing import LabelEncoder\n",
    "\n",
    "        encoder = LabelEncoder()\n",
    "\n",
    "3.ordinal encoding.\n",
    "-> Ordinal encoding is used to convert categorical data into numerical values while preserving the order or ranking of the categories.\n",
    "\n",
    "        uses:\n",
    "        from sklearn.preprocessing import OrdinalEncoder\n",
    "\n",
    "        encoder = OrdinalEncoder()\n",
    "\n",
    "4. Target guided ordinal encoding.\n",
    "-> it is based on their relationship with the target variable.\n",
    "-> It is very usefull when there is large number of unique catagorical data.\n",
    "        \n",
    "        uses:\n",
    "        -> We have to create different catagorical group, with corresponding to mean, median of target variable.\n",
    "'''"
   ]
  }
 ],
 "metadata": {
  "kernelspec": {
   "display_name": "Python 3",
   "language": "python",
   "name": "python3"
  },
  "language_info": {
   "codemirror_mode": {
    "name": "ipython",
    "version": 3
   },
   "file_extension": ".py",
   "mimetype": "text/x-python",
   "name": "python",
   "nbconvert_exporter": "python",
   "pygments_lexer": "ipython3",
   "version": "3.12.5"
  }
 },
 "nbformat": 4,
 "nbformat_minor": 2
}
